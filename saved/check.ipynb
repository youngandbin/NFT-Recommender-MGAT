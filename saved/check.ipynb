{
 "cells": [
  {
   "cell_type": "markdown",
   "metadata": {},
   "source": [
    "# 결과 확인"
   ]
  },
  {
   "cell_type": "code",
   "execution_count": 3,
   "metadata": {},
   "outputs": [],
   "source": [
    "import pickle\n",
    "import numpy as np\n",
    "import pandas as pd"
   ]
  },
  {
   "cell_type": "code",
   "execution_count": 4,
   "metadata": {},
   "outputs": [],
   "source": [
    "coolcats_recall_df = pd.DataFrame()\n",
    "coolcats_ndcg_df = pd.DataFrame()\n",
    "coolcats_recall_df2 = pd.DataFrame()\n",
    "coolcats_ndcg_df2 = pd.DataFrame()\n",
    "coolcats_recall_df3 = pd.DataFrame()\n",
    "coolcats_ndcg_df3 = pd.DataFrame()"
   ]
  },
  {
   "cell_type": "code",
   "execution_count": 6,
   "metadata": {},
   "outputs": [],
   "source": [
    "# 각 폴더에 있는 결과값들을 하나로 합친다.\n",
    "# load\n",
    "for Model in ['MGAT_2']:\n",
    "    for collection in ['coolcats','coolcats2','coolcats3']:\n",
    "        for i in range(9):\n",
    "            try:\n",
    "                with open(collection+'/'+Model+collection+str(i)+'_best.pickle', 'rb') as f:\n",
    "                    data = pickle.load(f)\n",
    "                with open(collection+'/'+Model+collection+str(i)+'_test.pickle', 'rb') as f:\n",
    "                    datas = pickle.load(f)\n",
    "                # print(f\"{i}: Recall {list(data.values())[0]}, NDCG {list(data.values())[1]} | Test Recall {list(datas.values())[0][1]}, Test NDCG {list(datas.values())[1][1]}\")\n",
    "                if collection == 'coolcats':\n",
    "                    coolcats_recall_df[str(i)] = [list(data.values())[0], list(datas.values())[0][1]]\n",
    "                    coolcats_ndcg_df[str(i)] = [list(data.values())[1], list(datas.values())[1][1]]\n",
    "                elif collection == 'coolcats2':\n",
    "                    coolcats_recall_df2[str(i)] = [list(data.values())[0], list(datas.values())[0][1]]\n",
    "                    coolcats_ndcg_df2[str(i)] = [list(data.values())[1], list(datas.values())[1][1]]\n",
    "                elif collection == 'coolcats3':\n",
    "                    coolcats_recall_df3[str(i)] = [list(data.values())[0], list(datas.values())[0][1]]\n",
    "                    coolcats_ndcg_df3[str(i)] = [list(data.values())[1], list(datas.values())[1][1]]\n",
    "\n",
    "            except:\n",
    "                pass\n",
    "                print(f\"{i}: No data\")"
   ]
  },
  {
   "cell_type": "code",
   "execution_count": 9,
   "metadata": {},
   "outputs": [],
   "source": [
    "# change all the dataframes index to valid_recall, test_recall\n",
    "coolcats_recall_df.index = ['valid_recall', 'test_recall']\n",
    "coolcats_recall_df2.index = ['valid_recall', 'test_recall']\n",
    "coolcats_recall_df3.index = ['valid_recall', 'test_recall']"
   ]
  },
  {
   "cell_type": "code",
   "execution_count": 11,
   "metadata": {},
   "outputs": [
    {
     "name": "stdout",
     "output_type": "stream",
     "text": [
      "coolcats 2 | valid recall: 0.16402116402116404, test recall: 0.08601717659688674\n",
      "coolcats 1 | valid recall: 0.16693418940609953, test recall: 0.13930348258706468\n",
      "coolcats 4 | valid recall: 0.19659151905528716, test recall: 0.12459546925566344\n",
      "Mean of test recall:  0.11663870947987161\n"
     ]
    }
   ],
   "source": [
    "collections ='coolcats'\n",
    "recalls = []\n",
    "for i, df in enumerate([coolcats_recall_df, coolcats_recall_df2, coolcats_recall_df3]):\n",
    "    valid_recall, test_recall = df[df.idxmax(axis=1)['valid_recall']]\n",
    "    # 이름도 같이 출력되게 하기\n",
    "    # with open(collection+'/'+Model+collection+str(df.idxmax(axis=1)['valid_recall'])+'_hyperparameters.pickle', 'rb') as f:\n",
    "    #     hyper = pickle.load(f)\n",
    "    print(f\"{collections} {df.idxmax(axis=1)['valid_recall']} | valid recall: {valid_recall}, test recall: {test_recall}\")\n",
    "    recalls.append(test_recall)\n",
    "    # print(hyper)\n",
    "print('Mean of test recall: ', np.mean(recalls))"
   ]
  },
  {
   "cell_type": "code",
   "execution_count": null,
   "metadata": {},
   "outputs": [],
   "source": []
  }
 ],
 "metadata": {
  "kernelspec": {
   "display_name": "Python 3 (ipykernel)",
   "language": "python",
   "name": "python3"
  },
  "language_info": {
   "codemirror_mode": {
    "name": "ipython",
    "version": 3
   },
   "file_extension": ".py",
   "mimetype": "text/x-python",
   "name": "python",
   "nbconvert_exporter": "python",
   "pygments_lexer": "ipython3",
   "version": "3.9.16"
  },
  "vscode": {
   "interpreter": {
    "hash": "c22c9cf6aea936ba5da1e2efed1c4525cd6f7e5673aa738d8f21a431f00bc0c2"
   }
  }
 },
 "nbformat": 4,
 "nbformat_minor": 4
}
